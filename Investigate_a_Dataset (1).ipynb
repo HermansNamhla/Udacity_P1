{
 "cells": [
  {
   "cell_type": "markdown",
   "metadata": {},
   "source": [
    "\n",
    "# Project: No-show Appointments Dataset Analysis\n",
    "\n",
    "## Table of Contents\n",
    "<ul>\n",
    "<li><a href=\"#intro\">Introduction</a></li>\n",
    "<li><a href=\"#wrangling\">Data Wrangling</a></li>\n",
    "<li><a href=\"#eda\">Exploratory Data Analysis</a></li>\n",
    "<li><a href=\"#conclusions\">Conclusions</a></li>\n",
    "</ul>"
   ]
  },
  {
   "cell_type": "markdown",
   "metadata": {},
   "source": [
    "<a id='intro'></a>\n",
    "## Introduction\n",
    "\n",
    "### Dataset Description \n",
    "\n",
    "**Who/What is to blame when a patient does not show for an appointment?**\n",
    "\n",
    ">I shall analyse about 100k medical appointments data with 14 characteristics which are :\n",
    ">\n",
    ">> 1. PatientId : is the identification no. of each patient\n",
    ">> 2. AppointmentID : is the identification no. of each appointment\n",
    ">> 3. Gender : Male or Female. With Females in more proportions\n",
    ">> 4. ScheduledDay : The day the patient called or registered the appointment\n",
    ">> 5. AppointmentDay : The day when they have to see the doctor, attend the appointment.\n",
    ">> 6. Age : How old the patient is\n",
    ">> 7. Neighbourhood : Location where the appointment takes place\n",
    ">> 8. Scholarship : Reads True/False for whether a patient is enrolled in Brasilian welfare program or not\n",
    ">> 9. Hipertension : Reads True/False for a patients Hipertension's status\n",
    ">> 10. Diabetes : Reads True/False for a patients Diabetes' status\n",
    ">> 11. Alcoholism : Reads True/False for patients alcohol dependency\n",
    ">> 12. Handcap : Reads True/False for a patients physical or mental disability status\n",
    ">> 13. SMS_received : No. of appointment messages sent to the patient\n",
    ">> 14. No-show : Read True/False for whether a patient makes the appointment or not\n",
    "\n",
    "### Question(s) for Analysis\n",
    " **What features determine whether a patient will make their appointment or not?**\n",
    "\n",
    "> * Does the number of communication(SMS) sent by the hospital lead to patients showing up for their appointment?\n",
    "\n",
    "> * Does the disability of the patient affect their ability to show up for appointments?\n",
    "\n",
    "> * Are patients of a certain age group more likely to show up more than other age groups? \n",
    "\n"
   ]
  },
  {
   "cell_type": "code",
   "execution_count": 1,
   "metadata": {},
   "outputs": [],
   "source": [
    "# import statements for all of the packages to be used\n",
    "import pandas as pd\n",
    "import numpy as np\n",
    "import seaborn as sns\n",
    "import datetime\n",
    "\n",
    "import matplotlib.pyplot as plt\n",
    "% matplotlib inline"
   ]
  },
  {
   "cell_type": "code",
   "execution_count": 2,
   "metadata": {},
   "outputs": [
    {
     "name": "stdout",
     "output_type": "stream",
     "text": [
      "Requirement already up-to-date: pandas==0.25.0 in /opt/conda/lib/python3.6/site-packages (0.25.0)\n",
      "Requirement already satisfied, skipping upgrade: pytz>=2017.2 in /opt/conda/lib/python3.6/site-packages (from pandas==0.25.0) (2017.3)\n",
      "Requirement already satisfied, skipping upgrade: numpy>=1.13.3 in /opt/conda/lib/python3.6/site-packages (from pandas==0.25.0) (1.19.5)\n",
      "Requirement already satisfied, skipping upgrade: python-dateutil>=2.6.1 in /opt/conda/lib/python3.6/site-packages (from pandas==0.25.0) (2.6.1)\n",
      "Requirement already satisfied, skipping upgrade: six>=1.5 in /opt/conda/lib/python3.6/site-packages (from python-dateutil>=2.6.1->pandas==0.25.0) (1.11.0)\n"
     ]
    }
   ],
   "source": [
    "# Upgrade pandas to use dataframe.explode() function. \n",
    "!pip install --upgrade pandas==0.25.0"
   ]
  },
  {
   "cell_type": "markdown",
   "metadata": {},
   "source": [
    "<a id='wrangling'></a>\n",
    "## Data Wrangling\n",
    "\n",
    "\n",
    "\n",
    "### General Properties\n",
    "\n"
   ]
  },
  {
   "cell_type": "code",
   "execution_count": 2,
   "metadata": {},
   "outputs": [
    {
     "data": {
      "text/plain": [
       "(110527, 14)"
      ]
     },
     "execution_count": 2,
     "metadata": {},
     "output_type": "execute_result"
    }
   ],
   "source": [
    "# Loading my data and viewing \n",
    "df = pd.read_csv('noshowappointments-kagglev2-may-2016.csv')\n",
    "df.shape"
   ]
  },
  {
   "cell_type": "markdown",
   "metadata": {},
   "source": [
    "from the above information we can see that our dataset has the following 110527 rows by 14 columns"
   ]
  },
  {
   "cell_type": "code",
   "execution_count": 3,
   "metadata": {},
   "outputs": [
    {
     "data": {
      "text/html": [
       "<div>\n",
       "<style scoped>\n",
       "    .dataframe tbody tr th:only-of-type {\n",
       "        vertical-align: middle;\n",
       "    }\n",
       "\n",
       "    .dataframe tbody tr th {\n",
       "        vertical-align: top;\n",
       "    }\n",
       "\n",
       "    .dataframe thead th {\n",
       "        text-align: right;\n",
       "    }\n",
       "</style>\n",
       "<table border=\"1\" class=\"dataframe\">\n",
       "  <thead>\n",
       "    <tr style=\"text-align: right;\">\n",
       "      <th></th>\n",
       "      <th>PatientId</th>\n",
       "      <th>AppointmentID</th>\n",
       "      <th>Gender</th>\n",
       "      <th>ScheduledDay</th>\n",
       "      <th>AppointmentDay</th>\n",
       "      <th>Age</th>\n",
       "      <th>Neighbourhood</th>\n",
       "      <th>Scholarship</th>\n",
       "      <th>Hipertension</th>\n",
       "      <th>Diabetes</th>\n",
       "      <th>Alcoholism</th>\n",
       "      <th>Handcap</th>\n",
       "      <th>SMS_received</th>\n",
       "      <th>No-show</th>\n",
       "    </tr>\n",
       "  </thead>\n",
       "  <tbody>\n",
       "    <tr>\n",
       "      <th>0</th>\n",
       "      <td>2.987250e+13</td>\n",
       "      <td>5642903</td>\n",
       "      <td>F</td>\n",
       "      <td>2016-04-29T18:38:08Z</td>\n",
       "      <td>2016-04-29T00:00:00Z</td>\n",
       "      <td>62</td>\n",
       "      <td>JARDIM DA PENHA</td>\n",
       "      <td>0</td>\n",
       "      <td>1</td>\n",
       "      <td>0</td>\n",
       "      <td>0</td>\n",
       "      <td>0</td>\n",
       "      <td>0</td>\n",
       "      <td>No</td>\n",
       "    </tr>\n",
       "    <tr>\n",
       "      <th>1</th>\n",
       "      <td>5.589978e+14</td>\n",
       "      <td>5642503</td>\n",
       "      <td>M</td>\n",
       "      <td>2016-04-29T16:08:27Z</td>\n",
       "      <td>2016-04-29T00:00:00Z</td>\n",
       "      <td>56</td>\n",
       "      <td>JARDIM DA PENHA</td>\n",
       "      <td>0</td>\n",
       "      <td>0</td>\n",
       "      <td>0</td>\n",
       "      <td>0</td>\n",
       "      <td>0</td>\n",
       "      <td>0</td>\n",
       "      <td>No</td>\n",
       "    </tr>\n",
       "    <tr>\n",
       "      <th>2</th>\n",
       "      <td>4.262962e+12</td>\n",
       "      <td>5642549</td>\n",
       "      <td>F</td>\n",
       "      <td>2016-04-29T16:19:04Z</td>\n",
       "      <td>2016-04-29T00:00:00Z</td>\n",
       "      <td>62</td>\n",
       "      <td>MATA DA PRAIA</td>\n",
       "      <td>0</td>\n",
       "      <td>0</td>\n",
       "      <td>0</td>\n",
       "      <td>0</td>\n",
       "      <td>0</td>\n",
       "      <td>0</td>\n",
       "      <td>No</td>\n",
       "    </tr>\n",
       "  </tbody>\n",
       "</table>\n",
       "</div>"
      ],
      "text/plain": [
       "      PatientId  AppointmentID Gender          ScheduledDay  \\\n",
       "0  2.987250e+13        5642903      F  2016-04-29T18:38:08Z   \n",
       "1  5.589978e+14        5642503      M  2016-04-29T16:08:27Z   \n",
       "2  4.262962e+12        5642549      F  2016-04-29T16:19:04Z   \n",
       "\n",
       "         AppointmentDay  Age    Neighbourhood  Scholarship  Hipertension  \\\n",
       "0  2016-04-29T00:00:00Z   62  JARDIM DA PENHA            0             1   \n",
       "1  2016-04-29T00:00:00Z   56  JARDIM DA PENHA            0             0   \n",
       "2  2016-04-29T00:00:00Z   62    MATA DA PRAIA            0             0   \n",
       "\n",
       "   Diabetes  Alcoholism  Handcap  SMS_received No-show  \n",
       "0         0           0        0             0      No  \n",
       "1         0           0        0             0      No  \n",
       "2         0           0        0             0      No  "
      ]
     },
     "execution_count": 3,
     "metadata": {},
     "output_type": "execute_result"
    }
   ],
   "source": [
    "df.head(3)"
   ]
  },
  {
   "cell_type": "markdown",
   "metadata": {},
   "source": [
    "a brief view of our dataset"
   ]
  },
  {
   "cell_type": "code",
   "execution_count": 4,
   "metadata": {},
   "outputs": [
    {
     "data": {
      "image/png": "[encoded data removed]",
      "text/plain": [
       "<matplotlib.figure.Figure at 0x7f96339acc50>"
      ]
     },
     "metadata": {
      "needs_background": "light"
     },
     "output_type": "display_data"
    }
   ],
   "source": [
    "# Histogram/visualization of dataset\n",
    "df.hist(figsize=(8,8));"
   ]
  },
  {
   "cell_type": "markdown",
   "metadata": {},
   "source": [
    "above is a histogram of almost every column in the dataframe"
   ]
  },
  {
   "cell_type": "code",
   "execution_count": 5,
   "metadata": {},
   "outputs": [
    {
     "data": {
      "text/plain": [
       "PatientId         0\n",
       "AppointmentID     0\n",
       "Gender            0\n",
       "ScheduledDay      0\n",
       "AppointmentDay    0\n",
       "Age               0\n",
       "Neighbourhood     0\n",
       "Scholarship       0\n",
       "Hipertension      0\n",
       "Diabetes          0\n",
       "Alcoholism        0\n",
       "Handcap           0\n",
       "SMS_received      0\n",
       "No-show           0\n",
       "dtype: int64"
      ]
     },
     "execution_count": 5,
     "metadata": {},
     "output_type": "execute_result"
    }
   ],
   "source": [
    "#missing values in each column\n",
    "df.isnull().sum()"
   ]
  },
  {
   "cell_type": "markdown",
   "metadata": {},
   "source": [
    "the dataset has no missing values in any columns which makes our analysis easier as that means our dataset is complete"
   ]
  },
  {
   "cell_type": "code",
   "execution_count": 6,
   "metadata": {},
   "outputs": [
    {
     "data": {
      "text/plain": [
       "0"
      ]
     },
     "execution_count": 6,
     "metadata": {},
     "output_type": "execute_result"
    }
   ],
   "source": [
    "# duplicated rows in the dataset\n",
    "df.duplicated().sum()"
   ]
  },
  {
   "cell_type": "markdown",
   "metadata": {},
   "source": [
    "there are no duplicated rows in our dataset which also makes our data cleaning process easier"
   ]
  },
  {
   "cell_type": "code",
   "execution_count": 7,
   "metadata": {},
   "outputs": [
    {
     "data": {
      "text/plain": [
       "PatientId         float64\n",
       "AppointmentID       int64\n",
       "Gender             object\n",
       "ScheduledDay       object\n",
       "AppointmentDay     object\n",
       "Age                 int64\n",
       "Neighbourhood      object\n",
       "Scholarship         int64\n",
       "Hipertension        int64\n",
       "Diabetes            int64\n",
       "Alcoholism          int64\n",
       "Handcap             int64\n",
       "SMS_received        int64\n",
       "No-show            object\n",
       "dtype: object"
      ]
     },
     "execution_count": 7,
     "metadata": {},
     "output_type": "execute_result"
    }
   ],
   "source": [
    "# datatypes of columns\n",
    "df.dtypes"
   ]
  },
  {
   "cell_type": "markdown",
   "metadata": {},
   "source": [
    "above is our columns datatype, appointmentid and patientid have a mismatch which we'll have to fix later."
   ]
  },
  {
   "cell_type": "code",
   "execution_count": 8,
   "metadata": {},
   "outputs": [
    {
     "data": {
      "text/plain": [
       "PatientId          62299\n",
       "AppointmentID     110527\n",
       "Gender                 2\n",
       "ScheduledDay      103549\n",
       "AppointmentDay        27\n",
       "Age                  104\n",
       "Neighbourhood         81\n",
       "Scholarship            2\n",
       "Hipertension           2\n",
       "Diabetes               2\n",
       "Alcoholism             2\n",
       "Handcap                5\n",
       "SMS_received           2\n",
       "No-show                2\n",
       "dtype: int64"
      ]
     },
     "execution_count": 8,
     "metadata": {},
     "output_type": "execute_result"
    }
   ],
   "source": [
    "# unique values in each column\n",
    "df.nunique()"
   ]
  },
  {
   "cell_type": "markdown",
   "metadata": {},
   "source": [
    "The number of unique values in AppointmentDay is 27 which means that our data spans over about month of appointments "
   ]
  },
  {
   "cell_type": "code",
   "execution_count": 9,
   "metadata": {},
   "outputs": [
    {
     "data": {
      "text/plain": [
       "array([ -1,   0,   1,   2,   3,   4,   5,   6,   7,   8,   9,  10,  11,\n",
       "        12,  13,  14,  15,  16,  17,  18,  19,  20,  21,  22,  23,  24,\n",
       "        25,  26,  27,  28,  29,  30,  31,  32,  33,  34,  35,  36,  37,\n",
       "        38,  39,  40,  41,  42,  43,  44,  45,  46,  47,  48,  49,  50,\n",
       "        51,  52,  53,  54,  55,  56,  57,  58,  59,  60,  61,  62,  63,\n",
       "        64,  65,  66,  67,  68,  69,  70,  71,  72,  73,  74,  75,  76,\n",
       "        77,  78,  79,  80,  81,  82,  83,  84,  85,  86,  87,  88,  89,\n",
       "        90,  91,  92,  93,  94,  95,  96,  97,  98,  99, 100, 102, 115])"
      ]
     },
     "execution_count": 9,
     "metadata": {},
     "output_type": "execute_result"
    }
   ],
   "source": [
    "# view the unique values in age column in ascending order\n",
    "np.sort(df.Age.unique())"
   ]
  },
  {
   "cell_type": "markdown",
   "metadata": {},
   "source": [
    "The is a value of -1 which doesn't make sense as the is no person who can be negatively aged\n",
    "lets find its count(how many patients) to see if it might typo"
   ]
  },
  {
   "cell_type": "code",
   "execution_count": 10,
   "metadata": {},
   "outputs": [
    {
     "data": {
      "text/plain": [
       "1"
      ]
     },
     "execution_count": 10,
     "metadata": {},
     "output_type": "execute_result"
    }
   ],
   "source": [
    "#the number of persons aged -1\n",
    "df[df.Age== -1].shape[0]"
   ]
  },
  {
   "cell_type": "markdown",
   "metadata": {},
   "source": [
    "The count is one which means it is an error, we will delete the record in the cleaning process."
   ]
  },
  {
   "cell_type": "code",
   "execution_count": 11,
   "metadata": {},
   "outputs": [
    {
     "data": {
      "text/html": [
       "<div>\n",
       "<style scoped>\n",
       "    .dataframe tbody tr th:only-of-type {\n",
       "        vertical-align: middle;\n",
       "    }\n",
       "\n",
       "    .dataframe tbody tr th {\n",
       "        vertical-align: top;\n",
       "    }\n",
       "\n",
       "    .dataframe thead th {\n",
       "        text-align: right;\n",
       "    }\n",
       "</style>\n",
       "<table border=\"1\" class=\"dataframe\">\n",
       "  <thead>\n",
       "    <tr style=\"text-align: right;\">\n",
       "      <th></th>\n",
       "      <th>PatientId</th>\n",
       "      <th>AppointmentID</th>\n",
       "      <th>Gender</th>\n",
       "      <th>ScheduledDay</th>\n",
       "      <th>AppointmentDay</th>\n",
       "      <th>Age</th>\n",
       "      <th>Neighbourhood</th>\n",
       "      <th>Scholarship</th>\n",
       "      <th>Hipertension</th>\n",
       "      <th>Diabetes</th>\n",
       "      <th>Alcoholism</th>\n",
       "      <th>Handcap</th>\n",
       "      <th>SMS_received</th>\n",
       "      <th>No-show</th>\n",
       "    </tr>\n",
       "  </thead>\n",
       "  <tbody>\n",
       "  </tbody>\n",
       "</table>\n",
       "</div>"
      ],
      "text/plain": [
       "Empty DataFrame\n",
       "Columns: [PatientId, AppointmentID, Gender, ScheduledDay, AppointmentDay, Age, Neighbourhood, Scholarship, Hipertension, Diabetes, Alcoholism, Handcap, SMS_received, No-show]\n",
       "Index: []"
      ]
     },
     "execution_count": 11,
     "metadata": {},
     "output_type": "execute_result"
    }
   ],
   "source": [
    "# Age 0 means babies less than 12 months old\n",
    "# to verify our assumtion we can check records of age 0 data with alcoholism since no babies can suffer from alcoholism\n",
    "df[(df.Age <= 0) & (df.Alcoholism.astype(int)==1)]"
   ]
  },
  {
   "cell_type": "markdown",
   "metadata": {},
   "source": [
    "from above we can see that our assumption that age 0 is babies less than 12 months old because we have no record of age 0 and suffer alcoholism."
   ]
  },
  {
   "cell_type": "code",
   "execution_count": 12,
   "metadata": {},
   "outputs": [
    {
     "data": {
      "text/plain": [
       "count    110527.000000\n",
       "mean         37.088874\n",
       "std          23.110205\n",
       "min          -1.000000\n",
       "25%          18.000000\n",
       "50%          37.000000\n",
       "75%          55.000000\n",
       "max         115.000000\n",
       "Name: Age, dtype: float64"
      ]
     },
     "execution_count": 12,
     "metadata": {},
     "output_type": "execute_result"
    }
   ],
   "source": [
    "# view the age statistics in order to later create age groups\n",
    "df.describe().Age"
   ]
  },
  {
   "cell_type": "markdown",
   "metadata": {},
   "source": [
    "we can see that the mean age of our patients is around 37"
   ]
  },
  {
   "cell_type": "code",
   "execution_count": 13,
   "metadata": {},
   "outputs": [
    {
     "data": {
      "image/png": "[encoded data removed]",
      "text/plain": [
       "<matplotlib.figure.Figure at 0x7f9633765470>"
      ]
     },
     "metadata": {
      "needs_background": "light"
     },
     "output_type": "display_data"
    }
   ],
   "source": [
    "# box plot to visualize the above age statistics\n",
    "df.boxplot(column=['Age']);"
   ]
  },
  {
   "cell_type": "markdown",
   "metadata": {},
   "source": [
    "above is a boxplot for the age distribution"
   ]
  },
  {
   "cell_type": "code",
   "execution_count": 14,
   "metadata": {},
   "outputs": [
    {
     "data": {
      "text/html": [
       "<div>\n",
       "<style scoped>\n",
       "    .dataframe tbody tr th:only-of-type {\n",
       "        vertical-align: middle;\n",
       "    }\n",
       "\n",
       "    .dataframe tbody tr th {\n",
       "        vertical-align: top;\n",
       "    }\n",
       "\n",
       "    .dataframe thead th {\n",
       "        text-align: right;\n",
       "    }\n",
       "</style>\n",
       "<table border=\"1\" class=\"dataframe\">\n",
       "  <thead>\n",
       "    <tr style=\"text-align: right;\">\n",
       "      <th></th>\n",
       "      <th>AppointmentDay</th>\n",
       "      <th>ScheduledDay</th>\n",
       "    </tr>\n",
       "  </thead>\n",
       "  <tbody>\n",
       "    <tr>\n",
       "      <th>0</th>\n",
       "      <td>2016-04-29T00:00:00Z</td>\n",
       "      <td>2016-04-29T18:38:08Z</td>\n",
       "    </tr>\n",
       "    <tr>\n",
       "      <th>1</th>\n",
       "      <td>2016-04-29T00:00:00Z</td>\n",
       "      <td>2016-04-29T16:08:27Z</td>\n",
       "    </tr>\n",
       "    <tr>\n",
       "      <th>2</th>\n",
       "      <td>2016-04-29T00:00:00Z</td>\n",
       "      <td>2016-04-29T16:19:04Z</td>\n",
       "    </tr>\n",
       "    <tr>\n",
       "      <th>3</th>\n",
       "      <td>2016-04-29T00:00:00Z</td>\n",
       "      <td>2016-04-29T17:29:31Z</td>\n",
       "    </tr>\n",
       "    <tr>\n",
       "      <th>4</th>\n",
       "      <td>2016-04-29T00:00:00Z</td>\n",
       "      <td>2016-04-29T16:07:23Z</td>\n",
       "    </tr>\n",
       "    <tr>\n",
       "      <th>5</th>\n",
       "      <td>2016-04-29T00:00:00Z</td>\n",
       "      <td>2016-04-27T08:36:51Z</td>\n",
       "    </tr>\n",
       "    <tr>\n",
       "      <th>6</th>\n",
       "      <td>2016-04-29T00:00:00Z</td>\n",
       "      <td>2016-04-27T15:05:12Z</td>\n",
       "    </tr>\n",
       "    <tr>\n",
       "      <th>7</th>\n",
       "      <td>2016-04-29T00:00:00Z</td>\n",
       "      <td>2016-04-27T15:39:58Z</td>\n",
       "    </tr>\n",
       "    <tr>\n",
       "      <th>8</th>\n",
       "      <td>2016-04-29T00:00:00Z</td>\n",
       "      <td>2016-04-29T08:02:16Z</td>\n",
       "    </tr>\n",
       "    <tr>\n",
       "      <th>9</th>\n",
       "      <td>2016-04-29T00:00:00Z</td>\n",
       "      <td>2016-04-27T12:48:25Z</td>\n",
       "    </tr>\n",
       "    <tr>\n",
       "      <th>10</th>\n",
       "      <td>2016-04-29T00:00:00Z</td>\n",
       "      <td>2016-04-27T14:58:11Z</td>\n",
       "    </tr>\n",
       "    <tr>\n",
       "      <th>11</th>\n",
       "      <td>2016-04-29T00:00:00Z</td>\n",
       "      <td>2016-04-26T08:44:12Z</td>\n",
       "    </tr>\n",
       "    <tr>\n",
       "      <th>12</th>\n",
       "      <td>2016-04-29T00:00:00Z</td>\n",
       "      <td>2016-04-28T11:33:51Z</td>\n",
       "    </tr>\n",
       "    <tr>\n",
       "      <th>13</th>\n",
       "      <td>2016-04-29T00:00:00Z</td>\n",
       "      <td>2016-04-28T14:52:07Z</td>\n",
       "    </tr>\n",
       "    <tr>\n",
       "      <th>14</th>\n",
       "      <td>2016-04-29T00:00:00Z</td>\n",
       "      <td>2016-04-28T10:06:24Z</td>\n",
       "    </tr>\n",
       "    <tr>\n",
       "      <th>15</th>\n",
       "      <td>2016-04-29T00:00:00Z</td>\n",
       "      <td>2016-04-26T08:47:27Z</td>\n",
       "    </tr>\n",
       "    <tr>\n",
       "      <th>16</th>\n",
       "      <td>2016-04-29T00:00:00Z</td>\n",
       "      <td>2016-04-28T08:51:47Z</td>\n",
       "    </tr>\n",
       "    <tr>\n",
       "      <th>17</th>\n",
       "      <td>2016-04-29T00:00:00Z</td>\n",
       "      <td>2016-04-28T09:28:57Z</td>\n",
       "    </tr>\n",
       "    <tr>\n",
       "      <th>18</th>\n",
       "      <td>2016-04-29T00:00:00Z</td>\n",
       "      <td>2016-04-26T10:54:18Z</td>\n",
       "    </tr>\n",
       "    <tr>\n",
       "      <th>19</th>\n",
       "      <td>2016-04-29T00:00:00Z</td>\n",
       "      <td>2016-04-29T10:43:14Z</td>\n",
       "    </tr>\n",
       "    <tr>\n",
       "      <th>20</th>\n",
       "      <td>2016-04-29T00:00:00Z</td>\n",
       "      <td>2016-04-27T07:51:14Z</td>\n",
       "    </tr>\n",
       "    <tr>\n",
       "      <th>21</th>\n",
       "      <td>2016-04-29T00:00:00Z</td>\n",
       "      <td>2016-04-27T10:50:45Z</td>\n",
       "    </tr>\n",
       "    <tr>\n",
       "      <th>22</th>\n",
       "      <td>2016-04-29T00:00:00Z</td>\n",
       "      <td>2016-04-25T13:29:16Z</td>\n",
       "    </tr>\n",
       "    <tr>\n",
       "      <th>23</th>\n",
       "      <td>2016-04-29T00:00:00Z</td>\n",
       "      <td>2016-04-28T10:27:05Z</td>\n",
       "    </tr>\n",
       "    <tr>\n",
       "      <th>24</th>\n",
       "      <td>2016-04-29T00:00:00Z</td>\n",
       "      <td>2016-04-29T14:19:19Z</td>\n",
       "    </tr>\n",
       "    <tr>\n",
       "      <th>25</th>\n",
       "      <td>2016-04-29T00:00:00Z</td>\n",
       "      <td>2016-04-26T15:04:17Z</td>\n",
       "    </tr>\n",
       "    <tr>\n",
       "      <th>26</th>\n",
       "      <td>2016-04-29T00:00:00Z</td>\n",
       "      <td>2016-04-29T14:19:42Z</td>\n",
       "    </tr>\n",
       "    <tr>\n",
       "      <th>27</th>\n",
       "      <td>2016-04-29T00:00:00Z</td>\n",
       "      <td>2016-04-27T10:51:45Z</td>\n",
       "    </tr>\n",
       "    <tr>\n",
       "      <th>28</th>\n",
       "      <td>2016-04-29T00:00:00Z</td>\n",
       "      <td>2016-04-29T15:48:02Z</td>\n",
       "    </tr>\n",
       "    <tr>\n",
       "      <th>29</th>\n",
       "      <td>2016-04-29T00:00:00Z</td>\n",
       "      <td>2016-04-29T15:16:29Z</td>\n",
       "    </tr>\n",
       "    <tr>\n",
       "      <th>...</th>\n",
       "      <td>...</td>\n",
       "      <td>...</td>\n",
       "    </tr>\n",
       "    <tr>\n",
       "      <th>110497</th>\n",
       "      <td>2016-06-01T00:00:00Z</td>\n",
       "      <td>2016-06-01T09:46:33Z</td>\n",
       "    </tr>\n",
       "    <tr>\n",
       "      <th>110498</th>\n",
       "      <td>2016-06-08T00:00:00Z</td>\n",
       "      <td>2016-06-08T10:21:14Z</td>\n",
       "    </tr>\n",
       "    <tr>\n",
       "      <th>110499</th>\n",
       "      <td>2016-06-01T00:00:00Z</td>\n",
       "      <td>2016-06-01T09:42:56Z</td>\n",
       "    </tr>\n",
       "    <tr>\n",
       "      <th>110500</th>\n",
       "      <td>2016-06-08T00:00:00Z</td>\n",
       "      <td>2016-06-08T09:35:13Z</td>\n",
       "    </tr>\n",
       "    <tr>\n",
       "      <th>110501</th>\n",
       "      <td>2016-06-01T00:00:00Z</td>\n",
       "      <td>2016-06-01T10:19:12Z</td>\n",
       "    </tr>\n",
       "    <tr>\n",
       "      <th>110502</th>\n",
       "      <td>2016-06-08T00:00:00Z</td>\n",
       "      <td>2016-06-08T10:50:42Z</td>\n",
       "    </tr>\n",
       "    <tr>\n",
       "      <th>110503</th>\n",
       "      <td>2016-06-01T00:00:00Z</td>\n",
       "      <td>2016-06-01T13:00:36Z</td>\n",
       "    </tr>\n",
       "    <tr>\n",
       "      <th>110504</th>\n",
       "      <td>2016-06-08T00:00:00Z</td>\n",
       "      <td>2016-06-08T11:06:21Z</td>\n",
       "    </tr>\n",
       "    <tr>\n",
       "      <th>110505</th>\n",
       "      <td>2016-06-01T00:00:00Z</td>\n",
       "      <td>2016-06-01T10:45:50Z</td>\n",
       "    </tr>\n",
       "    <tr>\n",
       "      <th>110506</th>\n",
       "      <td>2016-06-01T00:00:00Z</td>\n",
       "      <td>2016-06-01T11:09:20Z</td>\n",
       "    </tr>\n",
       "    <tr>\n",
       "      <th>110507</th>\n",
       "      <td>2016-06-08T00:00:00Z</td>\n",
       "      <td>2016-06-08T09:04:18Z</td>\n",
       "    </tr>\n",
       "    <tr>\n",
       "      <th>110508</th>\n",
       "      <td>2016-06-01T00:00:00Z</td>\n",
       "      <td>2016-06-01T09:41:00Z</td>\n",
       "    </tr>\n",
       "    <tr>\n",
       "      <th>110509</th>\n",
       "      <td>2016-06-08T00:00:00Z</td>\n",
       "      <td>2016-06-08T08:50:51Z</td>\n",
       "    </tr>\n",
       "    <tr>\n",
       "      <th>110510</th>\n",
       "      <td>2016-06-01T00:00:00Z</td>\n",
       "      <td>2016-06-01T09:35:48Z</td>\n",
       "    </tr>\n",
       "    <tr>\n",
       "      <th>110511</th>\n",
       "      <td>2016-06-08T00:00:00Z</td>\n",
       "      <td>2016-06-08T08:50:20Z</td>\n",
       "    </tr>\n",
       "    <tr>\n",
       "      <th>110512</th>\n",
       "      <td>2016-06-08T00:00:00Z</td>\n",
       "      <td>2016-06-08T08:20:01Z</td>\n",
       "    </tr>\n",
       "    <tr>\n",
       "      <th>110513</th>\n",
       "      <td>2016-06-08T00:00:00Z</td>\n",
       "      <td>2016-06-08T07:52:55Z</td>\n",
       "    </tr>\n",
       "    <tr>\n",
       "      <th>110514</th>\n",
       "      <td>2016-06-08T00:00:00Z</td>\n",
       "      <td>2016-06-08T08:35:31Z</td>\n",
       "    </tr>\n",
       "    <tr>\n",
       "      <th>110515</th>\n",
       "      <td>2016-06-08T00:00:00Z</td>\n",
       "      <td>2016-06-06T15:58:05Z</td>\n",
       "    </tr>\n",
       "    <tr>\n",
       "      <th>110516</th>\n",
       "      <td>2016-06-08T00:00:00Z</td>\n",
       "      <td>2016-06-07T07:45:16Z</td>\n",
       "    </tr>\n",
       "    <tr>\n",
       "      <th>110517</th>\n",
       "      <td>2016-06-07T00:00:00Z</td>\n",
       "      <td>2016-06-07T07:38:34Z</td>\n",
       "    </tr>\n",
       "    <tr>\n",
       "      <th>110518</th>\n",
       "      <td>2016-06-07T00:00:00Z</td>\n",
       "      <td>2016-04-27T15:15:06Z</td>\n",
       "    </tr>\n",
       "    <tr>\n",
       "      <th>110519</th>\n",
       "      <td>2016-06-07T00:00:00Z</td>\n",
       "      <td>2016-04-27T15:23:14Z</td>\n",
       "    </tr>\n",
       "    <tr>\n",
       "      <th>110520</th>\n",
       "      <td>2016-06-07T00:00:00Z</td>\n",
       "      <td>2016-05-03T07:51:47Z</td>\n",
       "    </tr>\n",
       "    <tr>\n",
       "      <th>110521</th>\n",
       "      <td>2016-06-07T00:00:00Z</td>\n",
       "      <td>2016-05-03T08:23:40Z</td>\n",
       "    </tr>\n",
       "    <tr>\n",
       "      <th>110522</th>\n",
       "      <td>2016-06-07T00:00:00Z</td>\n",
       "      <td>2016-05-03T09:15:35Z</td>\n",
       "    </tr>\n",
       "    <tr>\n",
       "      <th>110523</th>\n",
       "      <td>2016-06-07T00:00:00Z</td>\n",
       "      <td>2016-05-03T07:27:33Z</td>\n",
       "    </tr>\n",
       "    <tr>\n",
       "      <th>110524</th>\n",
       "      <td>2016-06-07T00:00:00Z</td>\n",
       "      <td>2016-04-27T16:03:52Z</td>\n",
       "    </tr>\n",
       "    <tr>\n",
       "      <th>110525</th>\n",
       "      <td>2016-06-07T00:00:00Z</td>\n",
       "      <td>2016-04-27T15:09:23Z</td>\n",
       "    </tr>\n",
       "    <tr>\n",
       "      <th>110526</th>\n",
       "      <td>2016-06-07T00:00:00Z</td>\n",
       "      <td>2016-04-27T13:30:56Z</td>\n",
       "    </tr>\n",
       "  </tbody>\n",
       "</table>\n",
       "<p>110527 rows × 2 columns</p>\n",
       "</div>"
      ],
      "text/plain": [
       "              AppointmentDay          ScheduledDay\n",
       "0       2016-04-29T00:00:00Z  2016-04-29T18:38:08Z\n",
       "1       2016-04-29T00:00:00Z  2016-04-29T16:08:27Z\n",
       "2       2016-04-29T00:00:00Z  2016-04-29T16:19:04Z\n",
       "3       2016-04-29T00:00:00Z  2016-04-29T17:29:31Z\n",
       "4       2016-04-29T00:00:00Z  2016-04-29T16:07:23Z\n",
       "5       2016-04-29T00:00:00Z  2016-04-27T08:36:51Z\n",
       "6       2016-04-29T00:00:00Z  2016-04-27T15:05:12Z\n",
       "7       2016-04-29T00:00:00Z  2016-04-27T15:39:58Z\n",
       "8       2016-04-29T00:00:00Z  2016-04-29T08:02:16Z\n",
       "9       2016-04-29T00:00:00Z  2016-04-27T12:48:25Z\n",
       "10      2016-04-29T00:00:00Z  2016-04-27T14:58:11Z\n",
       "11      2016-04-29T00:00:00Z  2016-04-26T08:44:12Z\n",
       "12      2016-04-29T00:00:00Z  2016-04-28T11:33:51Z\n",
       "13      2016-04-29T00:00:00Z  2016-04-28T14:52:07Z\n",
       "14      2016-04-29T00:00:00Z  2016-04-28T10:06:24Z\n",
       "15      2016-04-29T00:00:00Z  2016-04-26T08:47:27Z\n",
       "16      2016-04-29T00:00:00Z  2016-04-28T08:51:47Z\n",
       "17      2016-04-29T00:00:00Z  2016-04-28T09:28:57Z\n",
       "18      2016-04-29T00:00:00Z  2016-04-26T10:54:18Z\n",
       "19      2016-04-29T00:00:00Z  2016-04-29T10:43:14Z\n",
       "20      2016-04-29T00:00:00Z  2016-04-27T07:51:14Z\n",
       "21      2016-04-29T00:00:00Z  2016-04-27T10:50:45Z\n",
       "22      2016-04-29T00:00:00Z  2016-04-25T13:29:16Z\n",
       "23      2016-04-29T00:00:00Z  2016-04-28T10:27:05Z\n",
       "24      2016-04-29T00:00:00Z  2016-04-29T14:19:19Z\n",
       "25      2016-04-29T00:00:00Z  2016-04-26T15:04:17Z\n",
       "26      2016-04-29T00:00:00Z  2016-04-29T14:19:42Z\n",
       "27      2016-04-29T00:00:00Z  2016-04-27T10:51:45Z\n",
       "28      2016-04-29T00:00:00Z  2016-04-29T15:48:02Z\n",
       "29      2016-04-29T00:00:00Z  2016-04-29T15:16:29Z\n",
       "...                      ...                   ...\n",
       "110497  2016-06-01T00:00:00Z  2016-06-01T09:46:33Z\n",
       "110498  2016-06-08T00:00:00Z  2016-06-08T10:21:14Z\n",
       "110499  2016-06-01T00:00:00Z  2016-06-01T09:42:56Z\n",
       "110500  2016-06-08T00:00:00Z  2016-06-08T09:35:13Z\n",
       "110501  2016-06-01T00:00:00Z  2016-06-01T10:19:12Z\n",
       "110502  2016-06-08T00:00:00Z  2016-06-08T10:50:42Z\n",
       "110503  2016-06-01T00:00:00Z  2016-06-01T13:00:36Z\n",
       "110504  2016-06-08T00:00:00Z  2016-06-08T11:06:21Z\n",
       "110505  2016-06-01T00:00:00Z  2016-06-01T10:45:50Z\n",
       "110506  2016-06-01T00:00:00Z  2016-06-01T11:09:20Z\n",
       "110507  2016-06-08T00:00:00Z  2016-06-08T09:04:18Z\n",
       "110508  2016-06-01T00:00:00Z  2016-06-01T09:41:00Z\n",
       "110509  2016-06-08T00:00:00Z  2016-06-08T08:50:51Z\n",
       "110510  2016-06-01T00:00:00Z  2016-06-01T09:35:48Z\n",
       "110511  2016-06-08T00:00:00Z  2016-06-08T08:50:20Z\n",
       "110512  2016-06-08T00:00:00Z  2016-06-08T08:20:01Z\n",
       "110513  2016-06-08T00:00:00Z  2016-06-08T07:52:55Z\n",
       "110514  2016-06-08T00:00:00Z  2016-06-08T08:35:31Z\n",
       "110515  2016-06-08T00:00:00Z  2016-06-06T15:58:05Z\n",
       "110516  2016-06-08T00:00:00Z  2016-06-07T07:45:16Z\n",
       "110517  2016-06-07T00:00:00Z  2016-06-07T07:38:34Z\n",
       "110518  2016-06-07T00:00:00Z  2016-04-27T15:15:06Z\n",
       "110519  2016-06-07T00:00:00Z  2016-04-27T15:23:14Z\n",
       "110520  2016-06-07T00:00:00Z  2016-05-03T07:51:47Z\n",
       "110521  2016-06-07T00:00:00Z  2016-05-03T08:23:40Z\n",
       "110522  2016-06-07T00:00:00Z  2016-05-03T09:15:35Z\n",
       "110523  2016-06-07T00:00:00Z  2016-05-03T07:27:33Z\n",
       "110524  2016-06-07T00:00:00Z  2016-04-27T16:03:52Z\n",
       "110525  2016-06-07T00:00:00Z  2016-04-27T15:09:23Z\n",
       "110526  2016-06-07T00:00:00Z  2016-04-27T13:30:56Z\n",
       "\n",
       "[110527 rows x 2 columns]"
      ]
     },
     "execution_count": 14,
     "metadata": {},
     "output_type": "execute_result"
    }
   ],
   "source": [
    "# Viewing the AppointmentDay and ScheduledDay columns\n",
    "df[[\"AppointmentDay\", \"ScheduledDay\"]]"
   ]
  },
  {
   "cell_type": "markdown",
   "metadata": {},
   "source": [
    "The timestamp on the AppointmentDay is consistent as 00:00:00 which provides no help\n",
    "\n",
    "The ScheduledDay has sometime timestamp but it really doesn't matter much as the AppointmentDay one would have\n",
    "\n",
    "so we can just remove the timestamp on both columns"
   ]
  },
  {
   "cell_type": "markdown",
   "metadata": {},
   "source": [
    "\n",
    "### Data Cleaning\n",
    " "
   ]
  },
  {
   "cell_type": "code",
   "execution_count": 15,
   "metadata": {},
   "outputs": [
    {
     "data": {
      "text/html": [
       "<div>\n",
       "<style scoped>\n",
       "    .dataframe tbody tr th:only-of-type {\n",
       "        vertical-align: middle;\n",
       "    }\n",
       "\n",
       "    .dataframe tbody tr th {\n",
       "        vertical-align: top;\n",
       "    }\n",
       "\n",
       "    .dataframe thead th {\n",
       "        text-align: right;\n",
       "    }\n",
       "</style>\n",
       "<table border=\"1\" class=\"dataframe\">\n",
       "  <thead>\n",
       "    <tr style=\"text-align: right;\">\n",
       "      <th></th>\n",
       "      <th>PatientId</th>\n",
       "      <th>AppointmentID</th>\n",
       "      <th>Gender</th>\n",
       "      <th>ScheduledDay</th>\n",
       "      <th>AppointmentDay</th>\n",
       "      <th>Age</th>\n",
       "      <th>Neighbourhood</th>\n",
       "      <th>Scholarship</th>\n",
       "      <th>Hypertension</th>\n",
       "      <th>Diabetes</th>\n",
       "      <th>Alcoholism</th>\n",
       "      <th>Handicap</th>\n",
       "      <th>SMSReceived</th>\n",
       "      <th>NoShow</th>\n",
       "    </tr>\n",
       "  </thead>\n",
       "  <tbody>\n",
       "    <tr>\n",
       "      <th>0</th>\n",
       "      <td>2.987250e+13</td>\n",
       "      <td>5642903</td>\n",
       "      <td>F</td>\n",
       "      <td>2016-04-29T18:38:08Z</td>\n",
       "      <td>2016-04-29T00:00:00Z</td>\n",
       "      <td>62</td>\n",
       "      <td>JARDIM DA PENHA</td>\n",
       "      <td>0</td>\n",
       "      <td>1</td>\n",
       "      <td>0</td>\n",
       "      <td>0</td>\n",
       "      <td>0</td>\n",
       "      <td>0</td>\n",
       "      <td>No</td>\n",
       "    </tr>\n",
       "    <tr>\n",
       "      <th>1</th>\n",
       "      <td>5.589978e+14</td>\n",
       "      <td>5642503</td>\n",
       "      <td>M</td>\n",
       "      <td>2016-04-29T16:08:27Z</td>\n",
       "      <td>2016-04-29T00:00:00Z</td>\n",
       "      <td>56</td>\n",
       "      <td>JARDIM DA PENHA</td>\n",
       "      <td>0</td>\n",
       "      <td>0</td>\n",
       "      <td>0</td>\n",
       "      <td>0</td>\n",
       "      <td>0</td>\n",
       "      <td>0</td>\n",
       "      <td>No</td>\n",
       "    </tr>\n",
       "    <tr>\n",
       "      <th>2</th>\n",
       "      <td>4.262962e+12</td>\n",
       "      <td>5642549</td>\n",
       "      <td>F</td>\n",
       "      <td>2016-04-29T16:19:04Z</td>\n",
       "      <td>2016-04-29T00:00:00Z</td>\n",
       "      <td>62</td>\n",
       "      <td>MATA DA PRAIA</td>\n",
       "      <td>0</td>\n",
       "      <td>0</td>\n",
       "      <td>0</td>\n",
       "      <td>0</td>\n",
       "      <td>0</td>\n",
       "      <td>0</td>\n",
       "      <td>No</td>\n",
       "    </tr>\n",
       "    <tr>\n",
       "      <th>3</th>\n",
       "      <td>8.679512e+11</td>\n",
       "      <td>5642828</td>\n",
       "      <td>F</td>\n",
       "      <td>2016-04-29T17:29:31Z</td>\n",
       "      <td>2016-04-29T00:00:00Z</td>\n",
       "      <td>8</td>\n",
       "      <td>PONTAL DE CAMBURI</td>\n",
       "      <td>0</td>\n",
       "      <td>0</td>\n",
       "      <td>0</td>\n",
       "      <td>0</td>\n",
       "      <td>0</td>\n",
       "      <td>0</td>\n",
       "      <td>No</td>\n",
       "    </tr>\n",
       "  </tbody>\n",
       "</table>\n",
       "</div>"
      ],
      "text/plain": [
       "      PatientId  AppointmentID Gender          ScheduledDay  \\\n",
       "0  2.987250e+13        5642903      F  2016-04-29T18:38:08Z   \n",
       "1  5.589978e+14        5642503      M  2016-04-29T16:08:27Z   \n",
       "2  4.262962e+12        5642549      F  2016-04-29T16:19:04Z   \n",
       "3  8.679512e+11        5642828      F  2016-04-29T17:29:31Z   \n",
       "\n",
       "         AppointmentDay  Age      Neighbourhood  Scholarship  Hypertension  \\\n",
       "0  2016-04-29T00:00:00Z   62    JARDIM DA PENHA            0             1   \n",
       "1  2016-04-29T00:00:00Z   56    JARDIM DA PENHA            0             0   \n",
       "2  2016-04-29T00:00:00Z   62      MATA DA PRAIA            0             0   \n",
       "3  2016-04-29T00:00:00Z    8  PONTAL DE CAMBURI            0             0   \n",
       "\n",
       "   Diabetes  Alcoholism  Handicap  SMSReceived NoShow  \n",
       "0         0           0         0            0     No  \n",
       "1         0           0         0            0     No  \n",
       "2         0           0         0            0     No  \n",
       "3         0           0         0            0     No  "
      ]
     },
     "execution_count": 15,
     "metadata": {},
     "output_type": "execute_result"
    }
   ],
   "source": [
    "# Renaming columns with spelling errors in the dataset\n",
    "df= df.rename(columns={'Hipertension': 'Hypertension', 'Handcap': 'Handicap'})\n",
    "\n",
    "# Renaming columns to make sure the seperation of column name is consistent\n",
    "df= df.rename(columns={'SMS_received': 'SMSReceived', 'No-show': 'NoShow'})\n",
    "df.head(4)"
   ]
  },
  {
   "cell_type": "markdown",
   "metadata": {},
   "source": [
    "a view of our dataset with renamed columns"
   ]
  },
  {
   "cell_type": "code",
   "execution_count": 16,
   "metadata": {},
   "outputs": [
    {
     "data": {
      "text/html": [
       "<div>\n",
       "<style scoped>\n",
       "    .dataframe tbody tr th:only-of-type {\n",
       "        vertical-align: middle;\n",
       "    }\n",
       "\n",
       "    .dataframe tbody tr th {\n",
       "        vertical-align: top;\n",
       "    }\n",
       "\n",
       "    .dataframe thead th {\n",
       "        text-align: right;\n",
       "    }\n",
       "</style>\n",
       "<table border=\"1\" class=\"dataframe\">\n",
       "  <thead>\n",
       "    <tr style=\"text-align: right;\">\n",
       "      <th></th>\n",
       "      <th>PatientId</th>\n",
       "      <th>AppointmentID</th>\n",
       "      <th>Gender</th>\n",
       "      <th>ScheduledDay</th>\n",
       "      <th>AppointmentDay</th>\n",
       "      <th>Age</th>\n",
       "      <th>Neighbourhood</th>\n",
       "      <th>Scholarship</th>\n",
       "      <th>Hypertension</th>\n",
       "      <th>Diabetes</th>\n",
       "      <th>Alcoholism</th>\n",
       "      <th>Handicap</th>\n",
       "      <th>SMSReceived</th>\n",
       "      <th>NoShow</th>\n",
       "    </tr>\n",
       "  </thead>\n",
       "  <tbody>\n",
       "    <tr>\n",
       "      <th>0</th>\n",
       "      <td>2.987250e+13</td>\n",
       "      <td>5642903</td>\n",
       "      <td>F</td>\n",
       "      <td>2016-04-29</td>\n",
       "      <td>2016-04-29</td>\n",
       "      <td>62</td>\n",
       "      <td>JARDIM DA PENHA</td>\n",
       "      <td>0</td>\n",
       "      <td>1</td>\n",
       "      <td>0</td>\n",
       "      <td>0</td>\n",
       "      <td>0</td>\n",
       "      <td>0</td>\n",
       "      <td>No</td>\n",
       "    </tr>\n",
       "  </tbody>\n",
       "</table>\n",
       "</div>"
      ],
      "text/plain": [
       "      PatientId  AppointmentID Gender ScheduledDay AppointmentDay  Age  \\\n",
       "0  2.987250e+13        5642903      F   2016-04-29     2016-04-29   62   \n",
       "\n",
       "     Neighbourhood  Scholarship  Hypertension  Diabetes  Alcoholism  Handicap  \\\n",
       "0  JARDIM DA PENHA            0             1         0           0         0   \n",
       "\n",
       "   SMSReceived NoShow  \n",
       "0            0     No  "
      ]
     },
     "execution_count": 16,
     "metadata": {},
     "output_type": "execute_result"
    }
   ],
   "source": [
    "# Removing timestamps from ScheduledDay and AppointmentDay\n",
    "df['ScheduledDay'] = pd.to_datetime(df['ScheduledDay']).dt.date\n",
    "df['AppointmentDay'] = pd.to_datetime(df['AppointmentDay']).dt.date\n",
    "df.head(1)"
   ]
  },
  {
   "cell_type": "markdown",
   "metadata": {},
   "source": [
    "we have removed the timestamp from ScheduledDay as it served no use in our analysis"
   ]
  },
  {
   "cell_type": "code",
   "execution_count": 17,
   "metadata": {},
   "outputs": [
    {
     "name": "stdout",
     "output_type": "stream",
     "text": [
      "<class 'pandas.core.frame.DataFrame'>\n",
      "RangeIndex: 110527 entries, 0 to 110526\n",
      "Data columns (total 14 columns):\n",
      "PatientId         110527 non-null int64\n",
      "AppointmentID     110527 non-null int64\n",
      "Gender            110527 non-null object\n",
      "ScheduledDay      110527 non-null datetime64[ns]\n",
      "AppointmentDay    110527 non-null datetime64[ns]\n",
      "Age               110527 non-null int64\n",
      "Neighbourhood     110527 non-null object\n",
      "Scholarship       110527 non-null object\n",
      "Hypertension      110527 non-null object\n",
      "Diabetes          110527 non-null object\n",
      "Alcoholism        110527 non-null object\n",
      "Handicap          110527 non-null object\n",
      "SMSReceived       110527 non-null object\n",
      "NoShow            110527 non-null object\n",
      "dtypes: datetime64[ns](2), int64(3), object(9)\n",
      "memory usage: 11.8+ MB\n"
     ]
    }
   ],
   "source": [
    "## Fixing datatypes\n",
    "\n",
    "# Convert PatientId datatype from float to int64 to match AppointmentId\n",
    "df['PatientId'] =df['PatientId'].astype('int')\n",
    "\n",
    "# Convert ScheduledDay and AppointmentDay from object to datetime64\n",
    "df['ScheduledDay'] = df['ScheduledDay'].astype('datetime64[ns]')\n",
    "df['AppointmentDay'] = df['AppointmentDay'].astype('datetime64[ns]')\n",
    "\n",
    "# Converting columns with unique values less than 10 from integers to objects\n",
    "df['Handicap'] = df['Handicap'].astype('object')\n",
    "df['Scholarship'] = df['Scholarship'].astype('object')\n",
    "df['Hypertension'] = df['Hypertension'].astype('object')\n",
    "df['Alcoholism'] = df['Alcoholism'].astype('object')\n",
    "df['Diabetes'] = df['Diabetes'].astype('object')\n",
    "df['SMSReceived'] = df['SMSReceived'].astype('object')\n",
    "\n",
    "# checkpoint\n",
    "df.info()"
   ]
  },
  {
   "cell_type": "markdown",
   "metadata": {},
   "source": [
    "our new appropriate column datatypes"
   ]
  },
  {
   "cell_type": "code",
   "execution_count": 18,
   "metadata": {},
   "outputs": [
    {
     "data": {
      "text/plain": [
       "array([  0,   1,   2,   3,   4,   5,   6,   7,   8,   9,  10,  11,  12,\n",
       "        13,  14,  15,  16,  17,  18,  19,  20,  21,  22,  23,  24,  25,\n",
       "        26,  27,  28,  29,  30,  31,  32,  33,  34,  35,  36,  37,  38,\n",
       "        39,  40,  41,  42,  43,  44,  45,  46,  47,  48,  49,  50,  51,\n",
       "        52,  53,  54,  55,  56,  57,  58,  59,  60,  61,  62,  63,  64,\n",
       "        65,  66,  67,  68,  69,  70,  71,  72,  73,  74,  75,  76,  77,\n",
       "        78,  79,  80,  81,  82,  83,  84,  85,  86,  87,  88,  89,  90,\n",
       "        91,  92,  93,  94,  95,  96,  97,  98,  99, 100, 102, 115])"
      ]
     },
     "execution_count": 18,
     "metadata": {},
     "output_type": "execute_result"
    }
   ],
   "source": [
    "# Delete the error in age entries\n",
    "df = df[df.Age >= 0]\n",
    "np.sort(df.Age.unique())"
   ]
  },
  {
   "cell_type": "markdown",
   "metadata": {},
   "source": [
    "the entries of Age with the error removed"
   ]
  },
  {
   "cell_type": "code",
   "execution_count": 19,
   "metadata": {},
   "outputs": [
    {
     "data": {
      "text/html": [
       "<div>\n",
       "<style scoped>\n",
       "    .dataframe tbody tr th:only-of-type {\n",
       "        vertical-align: middle;\n",
       "    }\n",
       "\n",
       "    .dataframe tbody tr th {\n",
       "        vertical-align: top;\n",
       "    }\n",
       "\n",
       "    .dataframe thead th {\n",
       "        text-align: right;\n",
       "    }\n",
       "</style>\n",
       "<table border=\"1\" class=\"dataframe\">\n",
       "  <thead>\n",
       "    <tr style=\"text-align: right;\">\n",
       "      <th></th>\n",
       "      <th>Gender</th>\n",
       "      <th>ScheduledDay</th>\n",
       "      <th>AppointmentDay</th>\n",
       "      <th>Age</th>\n",
       "      <th>Neighbourhood</th>\n",
       "      <th>Scholarship</th>\n",
       "      <th>Hypertension</th>\n",
       "      <th>Diabetes</th>\n",
       "      <th>Alcoholism</th>\n",
       "      <th>Handicap</th>\n",
       "      <th>SMSReceived</th>\n",
       "      <th>NoShow</th>\n",
       "    </tr>\n",
       "  </thead>\n",
       "  <tbody>\n",
       "    <tr>\n",
       "      <th>0</th>\n",
       "      <td>F</td>\n",
       "      <td>2016-04-29</td>\n",
       "      <td>2016-04-29</td>\n",
       "      <td>62</td>\n",
       "      <td>JARDIM DA PENHA</td>\n",
       "      <td>0</td>\n",
       "      <td>1</td>\n",
       "      <td>0</td>\n",
       "      <td>0</td>\n",
       "      <td>0</td>\n",
       "      <td>0</td>\n",
       "      <td>No</td>\n",
       "    </tr>\n",
       "  </tbody>\n",
       "</table>\n",
       "</div>"
      ],
      "text/plain": [
       "  Gender ScheduledDay AppointmentDay  Age    Neighbourhood Scholarship  \\\n",
       "0      F   2016-04-29     2016-04-29   62  JARDIM DA PENHA           0   \n",
       "\n",
       "  Hypertension Diabetes Alcoholism Handicap SMSReceived NoShow  \n",
       "0            1        0          0        0           0     No  "
      ]
     },
     "execution_count": 19,
     "metadata": {},
     "output_type": "execute_result"
    }
   ],
   "source": [
    "## to make my dataset a lot more clean and reduce the independent viariables I will drop columns PatientId and AppointmentId as they do not offer any useful insight\n",
    "df.drop(['AppointmentID', 'PatientId'], axis= 1, inplace= True)\n",
    "\n",
    "#final checkpoint\n",
    "df.head(1)"
   ]
  },
  {
   "cell_type": "markdown",
   "metadata": {},
   "source": [
    "our new dataset after removing non-essential data like the appointment and patient ID columns"
   ]
  },
  {
   "cell_type": "markdown",
   "metadata": {},
   "source": [
    "<a id='eda'></a>\n",
    "## Exploratory Data Analysis\n",
    "\n",
    "\n",
    "### Does the no. of SMS sent by the hospitals lead to patients showing up for their appointment?\n"
   ]
  },
  {
   "cell_type": "code",
   "execution_count": 20,
   "metadata": {},
   "outputs": [],
   "source": [
    "#define the ratio of SMS received and no SMS received by patients\n",
    "df_sms_ratio = df.query('NoShow== \"No\"').groupby(['SMSReceived']).size()/df.groupby(['SMSReceived']).size()"
   ]
  },
  {
   "cell_type": "markdown",
   "metadata": {},
   "source": [
    "The above cell defines my sms ratio for the analysis"
   ]
  },
  {
   "cell_type": "code",
   "execution_count": 28,
   "metadata": {},
   "outputs": [
    {
     "name": "stdout",
     "output_type": "stream",
     "text": [
      "Ratio Of SMSReceived And No SMSReceived\n",
      "\n",
      "SMSReceived\n",
      "0    83.296466\n",
      "1    72.425455\n",
      "dtype: float64\n"
     ]
    }
   ],
   "source": [
    "print(\"Ratio Of SMSReceived And No SMSReceived\\n\")\n",
    "print(df_sms_ratio*100)"
   ]
  },
  {
   "cell_type": "markdown",
   "metadata": {},
   "source": [
    "The percentage of communication received and no communication recieved"
   ]
  },
  {
   "cell_type": "code",
   "execution_count": 22,
   "metadata": {},
   "outputs": [
    {
     "data": {
      "image/png": "[encoded data removed]",
      "text/plain": [
       "<matplotlib.figure.Figure at 0x7f96339350b8>"
      ]
     },
     "metadata": {
      "needs_background": "light"
     },
     "output_type": "display_data"
    }
   ],
   "source": [
    "# Plot above ratio\n",
    "sms = sns.barplot(x= df_sms_ratio.index , y= df_sms_ratio)\n",
    "x_ticks_labels = ['No SMS Sent', 'SMS Sent']\n",
    "sms.set_xticklabels(x_ticks_labels)\n",
    "sms.set_title('Communication From Hospital')\n",
    "plt.show()"
   ]
  },
  {
   "cell_type": "markdown",
   "metadata": {},
   "source": [
    "The  number of patients who show up despite not receiving communication from the hospital is about 10% higher than the ones who received communication which is the inverse of what we might expect to observe. Receiving reminders usually encourages a person's attendance.\n"
   ]
  },
  {
   "cell_type": "markdown",
   "metadata": {},
   "source": [
    "### Does the disability of the patient affect their ability to show up for appointments?"
   ]
  },
  {
   "cell_type": "code",
   "execution_count": 24,
   "metadata": {},
   "outputs": [],
   "source": [
    "#Defining the handicap ratio\n",
    "df_handicap_ratio = df[df.NoShow== 'Yes'].groupby(['Handicap']).size()/df.groupby(['Handicap']).size()"
   ]
  },
  {
   "cell_type": "markdown",
   "metadata": {},
   "source": [
    "the above cell describe the function of handicap ratio to compare their show/noshow"
   ]
  },
  {
   "cell_type": "code",
   "execution_count": 27,
   "metadata": {},
   "outputs": [
    {
     "name": "stdout",
     "output_type": "stream",
     "text": [
      "Levels Of Handicap & NoShow Percentage\n",
      "\n",
      "Handicap\n",
      "0    20.235490\n",
      "1    17.923604\n",
      "2    20.218579\n",
      "3    23.076923\n",
      "4    33.333333\n",
      "dtype: float64\n"
     ]
    }
   ],
   "source": [
    "print(\"Levels Of Handicap & NoShow Percentage\\n\")\n",
    "print(df_handicap_ratio*100)"
   ]
  },
  {
   "cell_type": "markdown",
   "metadata": {},
   "source": [
    "the percentage of NoShow of patients with different levels of disabilities."
   ]
  },
  {
   "cell_type": "code",
   "execution_count": 29,
   "metadata": {},
   "outputs": [
    {
     "data": {
      "image/png": "[encoded data removed]",
      "text/plain": [
       "<matplotlib.figure.Figure at 0x7f962fd22128>"
      ]
     },
     "metadata": {
      "needs_background": "light"
     },
     "output_type": "display_data"
    }
   ],
   "source": [
    "# Bar plot for disability factor\n",
    "handicap = sns.barplot(x= df_handicap_ratio.index, y= df_handicap_ratio)\n",
    "handicap.set_title('Handicap NoShow Patients')\n",
    "plt.show()"
   ]
  },
  {
   "cell_type": "markdown",
   "metadata": {},
   "source": [
    "It seems like the number of NoShow generally increases as the level of handicap increases which might mean that the disability range of a person does affect their ability to show up for appointments, this could be due to lack of access to disability-friendly transport to and at the hospital."
   ]
  },
  {
   "cell_type": "markdown",
   "metadata": {},
   "source": [
    "### Are patients of certain age group more likely to show up more than other age groups?"
   ]
  },
  {
   "cell_type": "code",
   "execution_count": 30,
   "metadata": {},
   "outputs": [],
   "source": [
    "#creating age groups\n",
    "bins= [0, 11, 24,54, 74, np.inf]\n",
    "labels =['Children', 'Youth', 'Young Adult', 'Senior Adult', 'Elderly']\n",
    "df['age_groups'] = pd.cut(df['Age'], bins=bins, labels=labels)\n",
    "\n",
    "df_age_groups_ratio= df.query('NoShow== \"No\"').groupby(['age_groups']).size()/df.groupby(['age_groups']).size()\n"
   ]
  },
  {
   "cell_type": "markdown",
   "metadata": {},
   "source": [
    "Created and Defined age groups and their ratios."
   ]
  },
  {
   "cell_type": "code",
   "execution_count": 32,
   "metadata": {},
   "outputs": [
    {
     "name": "stdout",
     "output_type": "stream",
     "text": [
      "Different Age Groups of Patients Who Show UP\n",
      "\n",
      "age_groups\n",
      "Children        79.298994\n",
      "Youth           74.421290\n",
      "Young Adult     79.036770\n",
      "Senior Adult    84.303919\n",
      "Elderly         83.979111\n",
      "dtype: float64\n"
     ]
    }
   ],
   "source": [
    "print(\"Different Age Groups of Patients Who Show UP\\n\")\n",
    "print(df_age_groups_ratio*100)"
   ]
  },
  {
   "cell_type": "markdown",
   "metadata": {},
   "source": [
    "The percentage of the various age groups who showed up for their appointments"
   ]
  },
  {
   "cell_type": "code",
   "execution_count": 33,
   "metadata": {},
   "outputs": [
    {
     "data": {
      "image/png": "[encoded data removed]",
      "text/plain": [
       "<matplotlib.figure.Figure at 0x7f962fd69b00>"
      ]
     },
     "metadata": {
      "needs_background": "light"
     },
     "output_type": "display_data"
    }
   ],
   "source": [
    "#Plotting the Age group ratios\n",
    "age_groups = sns.barplot(x= df_age_groups_ratio.index, y=df_age_groups_ratio)\n",
    "age_groups.set_title('Age Groups Of Patients Who Show Up')\n",
    "plt.show()"
   ]
  },
  {
   "cell_type": "markdown",
   "metadata": {},
   "source": [
    "The number of patients who show up according to the grouped ages seems to be generally the same with a slight drop seen in the youth group which makes sense because the youth tends to be sick less compared to the other groups and the immune sytem is at its peak years, so less youth would even make appointments."
   ]
  },
  {
   "cell_type": "markdown",
   "metadata": {},
   "source": [
    "### Overall Number of Patients who showed up and those who did not show up"
   ]
  },
  {
   "cell_type": "code",
   "execution_count": 34,
   "metadata": {},
   "outputs": [
    {
     "data": {
      "text/plain": [
       "NoShow\n",
       "No     88207\n",
       "Yes    22319\n",
       "dtype: int64"
      ]
     },
     "execution_count": 34,
     "metadata": {},
     "output_type": "execute_result"
    }
   ],
   "source": [
    "df.groupby(['NoShow']).size()"
   ]
  },
  {
   "cell_type": "markdown",
   "metadata": {},
   "source": [
    "from above we can see that more patients showed up for their appointments"
   ]
  },
  {
   "cell_type": "code",
   "execution_count": 35,
   "metadata": {},
   "outputs": [
    {
     "name": "stdout",
     "output_type": "stream",
     "text": [
      "20.193438647919944\n"
     ]
    }
   ],
   "source": [
    "#percentage of no show\n",
    "df_noshow = 22319/ (88207+22319)\n",
    "print(df_noshow*100)"
   ]
  },
  {
   "cell_type": "markdown",
   "metadata": {},
   "source": [
    "About 20% of patients who booked appointments did not show up "
   ]
  },
  {
   "cell_type": "code",
   "execution_count": 36,
   "metadata": {},
   "outputs": [
    {
     "name": "stdout",
     "output_type": "stream",
     "text": [
      "79.80656135208005\n"
     ]
    }
   ],
   "source": [
    "df_show = 88207/ (88207+22319)\n",
    "print(df_show*100)"
   ]
  },
  {
   "cell_type": "markdown",
   "metadata": {},
   "source": [
    "About 80% of the patients showed up for their appointments"
   ]
  },
  {
   "cell_type": "code",
   "execution_count": 37,
   "metadata": {},
   "outputs": [
    {
     "data": {
      "image/png": "[encoded data removed]",
      "text/plain": [
       "<matplotlib.figure.Figure at 0x7f962fbefeb8>"
      ]
     },
     "metadata": {
      "needs_background": "light"
     },
     "output_type": "display_data"
    }
   ],
   "source": [
    "#the plot of Overall Patients Who Showed or Did Not\n",
    "show_noshow = sns.countplot(x=df.NoShow)\n",
    "show_noshow.set_title(\"Patients who show up or don't show up\")\n",
    "plt.show()"
   ]
  },
  {
   "cell_type": "markdown",
   "metadata": {},
   "source": [
    "The count plot from the dataset of patients who show up and those who did not show up"
   ]
  },
  {
   "cell_type": "markdown",
   "metadata": {},
   "source": [
    "<a id='conclusions'></a>\n",
    "## Conclusions\n",
    "> ### Results : \n",
    "> As seen from our analysis, we cannot use the age group of the patients to predict whether a patient will show up or not. The number of sms sent out by the hospital has a negative effect on patients showing up. Handicap can be used to predict Show/NoShow of patients.As shown in the analysis, more handicap people do not show up. The overall percentage of patients showing up in hospitals for their appointments is 80% which is good for a month's data.\n",
    "\n",
    ">### Limitations :\n",
    "> We were working with about a month of AppointmentDay data, which is not enough to make conclusive analysis and predictions. It is only a snapshot and does not paint the whole picture of the Show/NoShow of the Hospital's Appointments  \n",
    ">We were not given the reason for consultation appointment, this would have made our analysis more clearer and helped in predicting a Show/NoShow. This is because the seriousness of the illness is more to encourage a patient to consult than most of the other features.\n"
   ]
  },
  {
   "cell_type": "code",
   "execution_count": 38,
   "metadata": {},
   "outputs": [
    {
     "data": {
      "text/plain": [
       "0"
      ]
     },
     "execution_count": 38,
     "metadata": {},
     "output_type": "execute_result"
    }
   ],
   "source": [
    "from subprocess import call\n",
    "call(['python', '-m', 'nbconvert', 'Investigate_a_Dataset.ipynb'])"
   ]
  }
 ],
 "metadata": {
  "kernelspec": {
   "display_name": "Python 3",
   "language": "python",
   "name": "python3"
  },
  "language_info": {
   "codemirror_mode": {
    "name": "ipython",
    "version": 3
   },
   "file_extension": ".py",
   "mimetype": "text/x-python",
   "name": "python",
   "nbconvert_exporter": "python",
   "pygments_lexer": "ipython3",
   "version": "3.6.3"
  }
 },
 "nbformat": 4,
 "nbformat_minor": 2
}
